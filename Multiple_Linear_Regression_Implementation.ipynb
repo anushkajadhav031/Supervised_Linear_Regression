{
 "cells": [
  {
   "cell_type": "code",
   "execution_count": 1,
   "id": "0b3fc527-1013-458b-abc1-63e1e87a1b8e",
   "metadata": {},
   "outputs": [],
   "source": [
    "# Import Liabraries\n",
    "\n",
    "import numpy as np\n",
    "import pandas as pd\n",
    "import matplotlib.pyplot as plt\n",
    "import seaborn as sns\n",
    "import warnings\n",
    "warnings.filterwarnings('ignore')"
   ]
  },
  {
   "cell_type": "code",
   "execution_count": null,
   "id": "63581acb-bd9d-46dd-a234-0515726aea08",
   "metadata": {},
   "outputs": [],
   "source": [
    "# Import dataset\n",
    "\n",
    "ds = pd.read_csv(\"startup_data.csv\")\n",
    "ds"
   ]
  },
  {
   "cell_type": "code",
   "execution_count": null,
   "id": "23736b20-53c0-4733-b2ea-115a0b6951ca",
   "metadata": {},
   "outputs": [],
   "source": [
    "# Divide dataset as Independent and Dependent variables\n",
    "\n",
    "x = ds[['R&D Spend', 'Administration', 'Marketing Spend', 'State']]\n",
    "y = ds[['Profit']]"
   ]
  },
  {
   "cell_type": "code",
   "execution_count": null,
   "id": "e8192f03-25b2-41a4-8085-dd34d380cc4e",
   "metadata": {},
   "outputs": [],
   "source": [
    "# Finding unique values from state column\n",
    "\n",
    "ds['State'].unique()"
   ]
  },
  {
   "cell_type": "code",
   "execution_count": null,
   "id": "627b1353-e03a-469f-ac99-c8f00f3b57f1",
   "metadata": {},
   "outputs": [],
   "source": [
    "# Encoding on column state\n",
    "\n",
    "from sklearn.preprocessing import OneHotEncoder\n",
    "ohe = OneHotEncoder(sparse_output = False)\n",
    "encoded_data = ohe.fit_transform(x[['State']])\n",
    "\n",
    "\n",
    "column_names = ohe.get_feature_names_out(['State'])\n",
    "encoded_df = pd.DataFrame(encoded_data, columns = column_names)\n",
    "\n",
    "x = pd.concat([x, encoded_df], axis = 1)\n",
    "\n",
    "x = x.drop(columns = ['State'])\n",
    "x"
   ]
  },
  {
   "cell_type": "code",
   "execution_count": null,
   "id": "b1d929b8-06fe-424f-8bb2-7bcf3e370f02",
   "metadata": {},
   "outputs": [],
   "source": [
    "# Splitting dataset as Training and Testing\n",
    "\n",
    "from sklearn.model_selection import train_test_split\n",
    "x_train, x_test, y_train, y_test = train_test_split(x,y, test_size=0.2, random_state=0)"
   ]
  },
  {
   "cell_type": "code",
   "execution_count": null,
   "id": "296bd136-b67f-4545-83d7-7bda564167b6",
   "metadata": {},
   "outputs": [],
   "source": [
    "# Fit Model  (Multiple Linear Regression Model)\n",
    "\n",
    "from sklearn.linear_model import LinearRegression\n",
    "reg = LinearRegression()\n",
    "reg.fit(x_train, y_train)"
   ]
  },
  {
   "cell_type": "code",
   "execution_count": null,
   "id": "db8d651a-36cc-46af-8717-ff9046fd42c2",
   "metadata": {},
   "outputs": [],
   "source": [
    "# Predict\n",
    "\n",
    "data = [[100000,100000,100000,1,0,0]]\n",
    "columns = x.columns\n",
    "myinput = pd.DataFrame(columns = columns, data = data)\n",
    "result = reg.predict(myinput)\n",
    "result"
   ]
  },
  {
   "cell_type": "code",
   "execution_count": null,
   "id": "aa0e52ad-65f2-45af-a266-eec0e3a64172",
   "metadata": {},
   "outputs": [],
   "source": [
    "y_pred = reg.predict(x_test)\n",
    "y_pred"
   ]
  },
  {
   "cell_type": "code",
   "execution_count": null,
   "id": "fefca87f-69b2-41e5-9e0f-07377cdbd269",
   "metadata": {},
   "outputs": [],
   "source": [
    "y_test"
   ]
  },
  {
   "cell_type": "code",
   "execution_count": null,
   "id": "d8f23551-6299-4934-877b-266cda3d72a0",
   "metadata": {},
   "outputs": [],
   "source": []
  }
 ],
 "metadata": {
  "kernelspec": {
   "display_name": "Python 3 (ipykernel)",
   "language": "python",
   "name": "python3"
  },
  "language_info": {
   "codemirror_mode": {
    "name": "ipython",
    "version": 3
   },
   "file_extension": ".py",
   "mimetype": "text/x-python",
   "name": "python",
   "nbconvert_exporter": "python",
   "pygments_lexer": "ipython3",
   "version": "3.12.7"
  }
 },
 "nbformat": 4,
 "nbformat_minor": 5
}
